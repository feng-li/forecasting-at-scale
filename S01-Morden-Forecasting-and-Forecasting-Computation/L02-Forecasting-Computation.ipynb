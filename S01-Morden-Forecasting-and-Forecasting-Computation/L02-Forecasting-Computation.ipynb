{
 "cells": [
  {
   "cell_type": "markdown",
   "id": "a5ac78e7",
   "metadata": {
    "editable": true,
    "slideshow": {
     "slide_type": "slide"
    },
    "tags": []
   },
   "source": [
    "# Introduction to forecasting computation\n",
    "\n",
    "## Feng Li\n",
    "\n",
    "### Guanghua School of Management\n",
    "### Peking University\n",
    "\n",
    "### [feng.li@gsm.pku.edu.cn](feng.li@gsm.pku.edu.cn)\n",
    "### Course home page: [https://feng.li/bdcf](https://feng.li/bdcf)"
   ]
  },
  {
   "cell_type": "markdown",
   "id": "f8550d41-e33b-426b-9742-246bfbc62db3",
   "metadata": {
    "editable": true,
    "slideshow": {
     "slide_type": "slide"
    },
    "tags": []
   },
   "source": [
    "## Speed up computations with many CPUs and GPUs\n",
    "\n",
    "**GPU parallel computing** and **distributed computing** both focus on speeding up computations, but they do so in different ways and are suited for different types of problems.\n",
    "\n",
    "- **GPU parallel computing** uses a single machine with one or more GPUs (Graphics Processing Units) to perform many calculations simultaneously. GPUs have thousands of cores that can process tasks in parallel, making them highly efficient for tasks like matrix operations and deep learning.\n",
    "\n",
    "- **Distributed Computing** uses multiple machines (nodes or servers) connected over a network to divide and execute tasks in parallel. It can be structured as clusters, grids, or cloud-based frameworks, using frameworks like Apache Spark.\n",
    "\n",
    "\n"
   ]
  },
  {
   "cell_type": "markdown",
   "id": "ceb9123a-5ab1-48ec-9927-f2f579a768cd",
   "metadata": {
    "editable": true,
    "slideshow": {
     "slide_type": "slide"
    },
    "tags": []
   },
   "source": [
    "### **Comparison Table**\n",
    "| Feature            | GPU Parallel Computing  | Distributed Computing  |\n",
    "|-------------------|----------------------|----------------------|\n",
    "| **Scope**        | Single machine, multiple cores | Multiple machines, multiple nodes |\n",
    "| **Hardware**     | GPUs (thousands of cores) | CPUs/GPUs in separate servers |\n",
    "| **Data Size**    | Limited by GPU memory (VRAM) | Can scale to petabytes of data |\n",
    "| **Computation Type** | SIMD (Single Instruction, Multiple Data) | MIMD (Multiple Instructions, Multiple Data) |\n",
    "| **Best Use Cases** | Deep learning, HPC, scientific computing | Big data analytics, large-scale web applications |\n",
    "| **Communication Overhead** | Minimal (within one machine) | High (network-based communication) |\n",
    "\n",
    "### **When to Use What?**\n",
    "- Use **GPU parallel computing** if your task involves **massive numerical computations** that fit within a single machine (e.g., deep learning, AI training).\n",
    "- Use **distributed computing** if you need to **process extremely large datasets** across multiple machines (e.g., big data analytics with Spark)."
   ]
  },
  {
   "cell_type": "markdown",
   "id": "4a908100",
   "metadata": {
    "editable": true,
    "slideshow": {
     "slide_type": "slide"
    },
    "tags": []
   },
   "source": [
    "## The _move-code-to-data_ philosophy\n",
    "\n",
    "- The traditional supercomputer requires repeat transmissions of data between clients and servers. This works fine for computationally intensive work, but for data-intensive processing, the size of data becomes too large to be moved around easily. \n",
    "\n",
    "\n",
    "- A distributed systems focuses on **moving code to data**. \n",
    "\n",
    "- The clients send only the programs to be executed, and these programs are usually small.\n",
    "\n",
    "- More importantly, data are broken up and distributed across the cluster, and as much as possible, computation on a piece of data takes place on the same machine where that piece of data resides.\n",
    "\n",
    "- The whole process is known as **MapReduce**."
   ]
  },
  {
   "cell_type": "markdown",
   "id": "abd2e9a2",
   "metadata": {
    "editable": true,
    "slideshow": {
     "slide_type": "slide"
    },
    "tags": []
   },
   "source": [
    "![MapReduce](figures/spark.png)"
   ]
  },
  {
   "cell_type": "markdown",
   "id": "36516524",
   "metadata": {
    "editable": true,
    "slideshow": {
     "slide_type": "slide"
    },
    "tags": []
   },
   "source": [
    "![Spark-GitHub](figures/spark-github.png)"
   ]
  },
  {
   "cell_type": "markdown",
   "id": "19c20ac9",
   "metadata": {
    "editable": true,
    "slideshow": {
     "slide_type": "slide"
    },
    "tags": []
   },
   "source": [
    "![ms](figures/ms.png)"
   ]
  },
  {
   "cell_type": "markdown",
   "id": "9c08922f",
   "metadata": {
    "slideshow": {
     "slide_type": "slide"
    }
   },
   "source": [
    "## What do we have with Spark?"
   ]
  },
  {
   "cell_type": "markdown",
   "id": "0a97e10d",
   "metadata": {
    "editable": true,
    "slideshow": {
     "slide_type": "slide"
    },
    "tags": []
   },
   "source": [
    "![Spark-ML](figures/spark-ml.png)"
   ]
  },
  {
   "cell_type": "markdown",
   "id": "23307d80",
   "metadata": {
    "slideshow": {
     "slide_type": "slide"
    }
   },
   "source": [
    "## What do we ( _statisticians_ ) miss with distributed platforms?"
   ]
  },
  {
   "cell_type": "markdown",
   "id": "ecaee9d3",
   "metadata": {
    "editable": true,
    "slideshow": {
     "slide_type": "slide"
    },
    "tags": []
   },
   "source": [
    "- Interpretable statistical models such as **GLM** and **Time Series Forecasting Models**.\n",
    "\n",
    "- Efficient Bayesian inference tools such as __MCMC__, __Gibbs__ and __Variational Inference__.\n",
    "\n",
    "- Distributed statistical visualization tools like `ggplot2`, `seaborn` and `plotly`\n",
    "\n",
    "- ..."
   ]
  },
  {
   "cell_type": "markdown",
   "id": "6b2a96e1",
   "metadata": {
    "editable": true,
    "slideshow": {
     "slide_type": "slide"
    },
    "tags": []
   },
   "source": [
    "## Why is it difficult to develop statistical models on distributed systems?\n",
    "\n",
    "\n",
    "-- _Especially for statisticians_"
   ]
  },
  {
   "cell_type": "markdown",
   "id": "a749ca3c",
   "metadata": {
    "editable": true,
    "slideshow": {
     "slide_type": "slide"
    },
    "tags": []
   },
   "source": [
    "\n",
    "- __No unified solutions__ to deploy conventional statistical methods to distributed computing platform.\n",
    "\n",
    "- __Steep learning curve__ for using distributed computing.\n",
    "\n",
    "- Could not balance between __estimator efficiency and communication cost__.\n",
    "\n",
    "- __Unrealistic models assumptions__, e.g. requiring data randomly distributed."
   ]
  },
  {
   "cell_type": "markdown",
   "id": "95280326",
   "metadata": {
    "editable": true,
    "slideshow": {
     "slide_type": "slide"
    },
    "tags": []
   },
   "source": [
    "## Spark APIs for statisticians to develop distributed models"
   ]
  },
  {
   "cell_type": "markdown",
   "id": "a92efe90",
   "metadata": {
    "editable": true,
    "slideshow": {
     "slide_type": "slide"
    },
    "tags": []
   },
   "source": [
    "### UDFs for DataFrames-based API\n",
    "\n",
    "- User-Defined Functions (UDFs) are a feature of Spark that allows users to define their own functions when the system's built-in functions are not enough to perform the desired task.\n",
    "\n",
    "- The API is available in Spark (>= 2.3).\n",
    "\n",
    "- It runs with PySpark (requiring Apache `Arrow`) and Scala."
   ]
  },
  {
   "cell_type": "markdown",
   "id": "810bcaf7",
   "metadata": {
    "editable": true,
    "slideshow": {
     "slide_type": "slide"
    },
    "tags": []
   },
   "source": [
    "## Real projects on Spark\n",
    "\n",
    "\n",
    "Code available at https://github.com/feng-li/dstats"
   ]
  },
  {
   "cell_type": "markdown",
   "id": "c047ab70",
   "metadata": {
    "editable": true,
    "slideshow": {
     "slide_type": "slide"
    },
    "tags": []
   },
   "source": [
    "### DLSA: Least squares approximation for a distributed system\n",
    "\n",
    "in _Journal of Computational and Graphical Statistics, 2021_ (with Xuening Zhu & Hansheng Wang) https://doi.org/10.1080/10618600.2021.1923517\n",
    "\n",
    "\n",
    "- We estimate the parameter $\\theta$ on each worker separately by using local data on distributed workers. This can be done efficiently by using standard statistical estimation methods (e.g., maximum likelihood estimation). \n",
    "\n",
    "- Each worker passes the local estimator of $\\theta$ and its asymptotic\n",
    "  covariance estimate to the master.\n",
    "\n",
    "- A weighted least squares-type objective function can be constructed. This can be viewed as a local quadratic approximation of the global log-likelihood functions. "
   ]
  },
  {
   "cell_type": "markdown",
   "id": "96260642",
   "metadata": {
    "editable": true,
    "slideshow": {
     "slide_type": "slide"
    },
    "tags": []
   },
   "source": [
    "#### Efficiency and cost-effectiveness\n",
    "\n",
    "- A standard industrial-level architecture Spark-on-YARN cluster on the Alibaba cloud server consists of one master node and two worker nodes. Each node contains 64 virtual cores, 64 GB of RAM and two 80 GB SSD local hard drives. (cost 300 RMB per day}.\n",
    "\n",
    "- We find that $26.2$ minutes are needed for DLSA.\n",
    "\n",
    "- The traditional MLE takes more that $15$ hours and obtains an inferior result (cost 187 RMB). \n",
    "    \n",
    "- That means we have saved 97% computational power. (cost only 6 RMB)."
   ]
  },
  {
   "cell_type": "markdown",
   "id": "d6be7286",
   "metadata": {
    "editable": true,
    "slideshow": {
     "slide_type": "slide"
    },
    "tags": []
   },
   "source": [
    "### Distributed quantile regression by pilot sampling and one-step updating\n",
    "\n",
    "in _Journal of Business and Economic Statistics, 2021_ (with Rui Pan, Tunan Ren, Baishan Guo, Guodong Li & Hansheng Wang) https://doi.org/10.1080/07350015.2021.1961789\n",
    "\n",
    "- We conduct a random sampling of size $n$ from the distributed system, where $n$ is much smaller than the whole sample size $N$.\n",
    "\n",
    "- Thereafter, a standard quantile regression estimator can be obtained on the master, which is referred to as the _pilot estimator_.\n",
    "\n",
    "- To further enhance the statistical efficiency, we propose a one-step Newton-Raphson type algorithm to upgrade the pilot estimator. "
   ]
  },
  {
   "cell_type": "markdown",
   "id": "dc077ffc",
   "metadata": {
    "editable": true,
    "slideshow": {
     "slide_type": "slide"
    },
    "tags": []
   },
   "source": [
    "### Distributed ARIMA models for ultra-long time series\n",
    "\n",
    "in _International Journal of Forecasting_, 2023 (with Xiaoqian Wang, Yanfei Kang and Rob J Hyndman)\n",
    "\n",
    "- We develop a novel distributed forecasting framework to tackle challenges associated with forecasting ultra-long time series. \n",
    "\n",
    "- The proposed model combination approach facilitates distributed time series forecasting by combining the local estimators of time series models delivered from worker nodes and minimizing a global loss function. \n",
    "\n",
    "- In this way, instead of unrealistically assuming the data generating process (DGP) of an ultra-long time series stays invariant, we make assumptions only on the DGP of subseries spanning shorter time periods.\n"
   ]
  },
  {
   "cell_type": "markdown",
   "id": "9f53a442",
   "metadata": {
    "editable": true,
    "slideshow": {
     "slide_type": "slide"
    },
    "tags": []
   },
   "source": [
    "![DARIMA](figures/darima.png)"
   ]
  },
  {
   "cell_type": "markdown",
   "id": "ee3ed61f",
   "metadata": {
    "editable": true,
    "slideshow": {
     "slide_type": "slide"
    },
    "tags": []
   },
   "source": [
    "## Take home message\n",
    "\n",
    "- Distributed modeling, computing and visualization are the future of forecasting. \n",
    "\n",
    "- Spark is not the only software for distributed statistical computing,\n",
    "\n",
    "- But is the easiest one."
   ]
  }
 ],
 "metadata": {
  "celltoolbar": "Slideshow",
  "kernelspec": {
   "display_name": "Python 3 (ipykernel)",
   "language": "python",
   "name": "python3"
  },
  "language_info": {
   "codemirror_mode": {
    "name": "ipython",
    "version": 3
   },
   "file_extension": ".py",
   "mimetype": "text/x-python",
   "name": "python",
   "nbconvert_exporter": "python",
   "pygments_lexer": "ipython3",
   "version": "3.12.3"
  },
  "rise": {
   "auto_select": "first",
   "autolaunch": false,
   "enable_chalkboard": true,
   "start_slideshow_at": "selected",
   "theme": "serif"
  },
  "toc": {
   "base_numbering": 1,
   "nav_menu": {},
   "number_sections": false,
   "sideBar": false,
   "skip_h1_title": true,
   "title_cell": "Outline",
   "title_sidebar": "Contents",
   "toc_cell": true,
   "toc_position": {
    "height": "calc(100% - 180px)",
    "left": "10px",
    "top": "150px",
    "width": "268.167px"
   },
   "toc_section_display": true,
   "toc_window_display": true
  }
 },
 "nbformat": 4,
 "nbformat_minor": 5
}
